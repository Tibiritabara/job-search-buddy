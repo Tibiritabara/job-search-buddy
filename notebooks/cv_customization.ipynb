{
 "cells": [
  {
   "cell_type": "code",
   "execution_count": 1,
   "metadata": {},
   "outputs": [],
   "source": [
    "import os\n",
    "import sys\n",
    "\n",
    "from mistralai import Mistral  #"
   ]
  },
  {
   "cell_type": "code",
   "execution_count": null,
   "metadata": {},
   "outputs": [],
   "source": [
    "from dotenv import load_dotenv\n",
    "\n",
    "module_path = os.path.abspath(os.path.join(\"../src\"))\n",
    "if module_path not in sys.path:\n",
    "    sys.path.append(module_path)\n",
    "\n",
    "load_dotenv()"
   ]
  },
  {
   "cell_type": "code",
   "execution_count": null,
   "metadata": {},
   "outputs": [],
   "source": [
    "from unstructured_client import UnstructuredClient\n",
    "\n",
    "unstructured_api_key = os.getenv(\"UNSTRUCTURED_API_KEY\")\n",
    "with UnstructuredClient(\n",
    "    api_key_auth=unstructured_api_key,\n",
    "    server_url=\"http://localhost:8800/general/v0/general\",\n",
    ") as client:\n",
    "    res = client.general.partition(\n",
    "        request={\n",
    "            \"partition_parameters\": {\n",
    "                \"files\": {\n",
    "                    \"content\": open(\"../data/input/resume.docx\", \"rb\"),\n",
    "                    \"file_name\": \"resume.docx\",\n",
    "                },\n",
    "            },\n",
    "        },\n",
    "    )\n",
    "\n",
    "print(res.elements[0][\"metadata\"][\"text_as_html\"])\n",
    "\n",
    "resume = res.elements[0][\"metadata\"][\"text_as_html\"]\n"
   ]
  },
  {
   "cell_type": "code",
   "execution_count": 4,
   "metadata": {},
   "outputs": [],
   "source": [
    "job_description = \"Volkswagen Group Services is excited to present a fantastic opportunity to join our Volkswagen Digital:Hub in Spain. As part of the global Software Development Centre network in the Volkswagen Group, we constantly seek talented individuals ready to bring their unique skills to our projects.\\nOur start-up environment is collaborative, innovative, and open to new ideas. We strive to cultivate a work culture that encourages individual growth, team empowerment, and project excellence. We value respect, teamwork, and the common purpose that binds us as a group. If you're ready to thrive in a dynamic start-up environment and be part of our family, supported by one of the largest companies in the world, we invite you to read further.\\nAbout the Team and the Hub:Our culture is centered around fostering individual growth and team empowerment within a flexible and supportive environment.We prioritize respect, teamwork, and inclusivity, recognizing and valuing the unique contributions of each member.We embrace a work-life balance philosophy and encourage continuous personal and professional development.\\nThe Role and Key Responsibilities:To anticipate, identify and eliminate blockers in the team.Ensure Guidelines, Best Practices and Architecture.Delivery Advocate & Enabler.Responsible of sharing the knowledge and the team agreements between the team.You will work on a day-to-day basis with our design, frontend, backend and testing team to build a scalable and solid product.Working using best practices (testing, code reviews, DDD, CI/CD, clean cose...) and Agile methodologies.Collaborate in the design of the cluster architecture.Create of new automated tests/alerts.Analysis of new functionalities/system improvements.Dev ops: Pipeline's maintenance, creation // Deployment configuration maintenance, creation.\\nRequirements:BA Degree in Computer Sciences (or FP) and/or professional experience in Software.Software engineering background.At least 5 years of experience and 2 doing this role.Good management skills and team spirit.Experience with Java and Spring ecosystem, Spring boot, Go is a plus or another languages.Experience with testing tools like: Jest, Cypress, Testing library..Experience with AWS; AWS Glue, AWS Lambda, AWS CloudFormation Service, AWS Cloudwatch Service, AWS DynamoDB Service, AWS VPC (Amazon Virtual Private)...Experience with REST APIs.Experience with Azure Cloud.DevOps knowledge (Kubernetes, Azure DevOps)Fluent English and/or Spanish speakerFluent German speaker (nice to have)\\nWhat we offer:Fully remote work capability, with an option to work from our office when needed.Access to professional development tools and free language courses.Flexible working hours to accommodate personal and professional needs.A competitive holiday package and access to a variety of employee discounts.\\n\\nJoin us at Volkswagen Digital:Hub to advance your career in a role where your administrative skills will directly contribute to the success and smooth operation of our innovative projects.\\nFor more information on our data processing activities and your rights as a data subject, please consult our privacy policy.\\nRef: Level C\""
   ]
  },
  {
   "cell_type": "code",
   "execution_count": null,
   "metadata": {},
   "outputs": [],
   "source": [
    "import json\n",
    "\n",
    "api_key = os.getenv(\"MISTRAL_API_KEY\")\n",
    "model = \"mistral-large-latest\"\n",
    "\n",
    "mistral_client = Mistral(api_key=api_key)\n",
    "\n",
    "chat_response = mistral_client.chat.complete(\n",
    "    model=model,\n",
    "    messages=[\n",
    "        {\n",
    "            \"role\": \"system\",\n",
    "            \"content\": \"\"\"You are a helpful assistant that helps user optimize their resume for a job description.\n",
    "                    You will be given a CV and a job description and you have to do the following tasks:\n",
    "                     - You have to update the resume so that it fits better to the position from the job description.\n",
    "                     - Feel free to add new bullet points if necessary to the work experience, to better match the job description.\n",
    "                     - Your output should be a JSON object with the following fields:\n",
    "                        - \"resume\": the customized resume including the key changes made in markdown format.\n",
    "                        - \"changes\": a list of the key changes made to the resume.\n",
    "                    For this task, I will be paying a tip above 1000% if you do a good job.\n",
    "                    My professional career fully depends on you, so please do your best.\"\"\",\n",
    "        },\n",
    "        {\n",
    "            \"role\": \"user\",\n",
    "            \"content\": f\"\"\"Here is the CV:\n",
    "            <cv>\n",
    "            {resume}\n",
    "            </cv>\n",
    "            Here is the job description:\n",
    "            <job_description>\n",
    "            {job_description}\n",
    "            </job_description>\"\"\".format(\n",
    "                resume=resume,\n",
    "                job_description=job_description,\n",
    "            ),\n",
    "        },\n",
    "    ],\n",
    "    response_format={\n",
    "        \"type\": \"json_object\",\n",
    "    },\n",
    ")\n",
    "\n",
    "contents = chat_response.choices[0].message.content\n",
    "print(type(contents))\n",
    "dict_contents = json.loads(contents)\n",
    "\n",
    "customized_resume = contents[\"resume\"]\n",
    "changes = contents[\"changes\"]\n"
   ]
  },
  {
   "cell_type": "code",
   "execution_count": null,
   "metadata": {},
   "outputs": [],
   "source": [
    "print(dict_contents)"
   ]
  },
  {
   "cell_type": "code",
   "execution_count": 38,
   "metadata": {},
   "outputs": [],
   "source": [
    "from md2pdf.core import md2pdf\n",
    "\n",
    "pdf = \"../data/customized_resume.pdf\"\n",
    "md2pdf(\n",
    "    pdf_file_path=pdf,\n",
    "    md_content=customized_resume,\n",
    ")"
   ]
  },
  {
   "cell_type": "code",
   "execution_count": null,
   "metadata": {},
   "outputs": [],
   "source": []
  }
 ],
 "metadata": {
  "kernelspec": {
   "display_name": ".venv",
   "language": "python",
   "name": "python3"
  },
  "language_info": {
   "codemirror_mode": {
    "name": "ipython",
    "version": 3
   },
   "file_extension": ".py",
   "mimetype": "text/x-python",
   "name": "python",
   "nbconvert_exporter": "python",
   "pygments_lexer": "ipython3",
   "version": "3.12.7"
  }
 },
 "nbformat": 4,
 "nbformat_minor": 2
}
