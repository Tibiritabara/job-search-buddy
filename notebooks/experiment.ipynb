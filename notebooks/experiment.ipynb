{
 "cells": [
  {
   "cell_type": "code",
   "execution_count": 1,
   "metadata": {},
   "outputs": [
    {
     "data": {
      "text/plain": [
       "True"
      ]
     },
     "execution_count": 1,
     "metadata": {},
     "output_type": "execute_result"
    }
   ],
   "source": [
    "import os\n",
    "import sys\n",
    "\n",
    "from dotenv import load_dotenv\n",
    "\n",
    "module_path = os.path.abspath(os.path.join(\"../src\"))\n",
    "if module_path not in sys.path:\n",
    "    sys.path.append(module_path)\n",
    "\n",
    "load_dotenv()"
   ]
  },
  {
   "cell_type": "code",
   "execution_count": 2,
   "metadata": {},
   "outputs": [],
   "source": [
    "os.environ[\"GOOGLE_CREDENTIALS_PATH\"] = \"../data/credentials/my_cred_file.json\"\n",
    "os.environ[\"GOOGLE_TOKEN_PATH\"] = \"../data/credentials/token.json\""
   ]
  },
  {
   "cell_type": "code",
   "execution_count": 3,
   "metadata": {},
   "outputs": [],
   "source": [
    "from linkedin_api import Linkedin\n",
    "\n",
    "from utils.config import get_env\n",
    "\n",
    "env = get_env()\n",
    "api = Linkedin(\n",
    "    env.linkedin_username.get_secret_value(), env.linkedin_password.get_secret_value()\n",
    ")\n",
    "jobs = api.search_jobs(\n",
    "    keywords=\"frontend\",\n",
    "    location=\"Germany\",\n",
    "    limit=10,\n",
    ")\n"
   ]
  },
  {
   "cell_type": "code",
   "execution_count": 4,
   "metadata": {},
   "outputs": [
    {
     "name": "stdout",
     "output_type": "stream",
     "text": [
      "[{'trackingUrn': 'urn:li:jobPosting:4128867585', 'repostedJob': False, 'title': 'Senior Healthcare IT Architect (m/w/d)', '$recipeTypes': ['com.linkedin.deco.recipe.anonymous.Anon1578943416'], 'posterId': '1194655', '$type': 'com.linkedin.voyager.dash.jobs.JobPosting', 'contentSource': 'JOBS_PREMIUM_OFFLINE', 'entityUrn': 'urn:li:fsd_jobPosting:4128867585'}, {'trackingUrn': 'urn:li:jobPosting:4114869432', 'repostedJob': True, 'title': 'Founding ML Engineer', '$recipeTypes': ['com.linkedin.deco.recipe.anonymous.Anon1578943416'], 'posterId': '64127331', '$type': 'com.linkedin.voyager.dash.jobs.JobPosting', 'contentSource': 'JOBS_PREMIUM_OFFLINE', 'entityUrn': 'urn:li:fsd_jobPosting:4114869432'}, {'trackingUrn': 'urn:li:jobPosting:4129014932', 'repostedJob': False, 'title': 'Data Entry Tasks - Remote Work From Home', '$recipeTypes': ['com.linkedin.deco.recipe.anonymous.Anon1578943416'], 'posterId': None, '$type': 'com.linkedin.voyager.dash.jobs.JobPosting', 'contentSource': 'JOBS_CREATE', 'entityUrn': 'urn:li:fsd_jobPosting:4129014932'}, {'trackingUrn': 'urn:li:jobPosting:4129998682', 'repostedJob': False, 'title': 'Machine Learning Engineer', '$recipeTypes': ['com.linkedin.deco.recipe.anonymous.Anon1578943416'], 'posterId': '770652955', '$type': 'com.linkedin.voyager.dash.jobs.JobPosting', 'contentSource': 'JOBS_PREMIUM_OFFLINE', 'entityUrn': 'urn:li:fsd_jobPosting:4129998682'}, {'trackingUrn': 'urn:li:jobPosting:4128868530', 'repostedJob': False, 'title': 'Senior Healthcare IT Architect (m/w/d)', '$recipeTypes': ['com.linkedin.deco.recipe.anonymous.Anon1578943416'], 'posterId': '1194655', '$type': 'com.linkedin.voyager.dash.jobs.JobPosting', 'contentSource': 'JOBS_PREMIUM_OFFLINE', 'entityUrn': 'urn:li:fsd_jobPosting:4128868530'}, {'trackingUrn': 'urn:li:jobPosting:4128871034', 'repostedJob': False, 'title': 'Senior Healthcare IT Architect (m/w/d)', '$recipeTypes': ['com.linkedin.deco.recipe.anonymous.Anon1578943416'], 'posterId': '1194655', '$type': 'com.linkedin.voyager.dash.jobs.JobPosting', 'contentSource': 'JOBS_PREMIUM_OFFLINE', 'entityUrn': 'urn:li:fsd_jobPosting:4128871034'}, {'trackingUrn': 'urn:li:jobPosting:4128854013', 'repostedJob': False, 'title': 'Google | Software Engineer II, Infrastructure, Core', '$recipeTypes': ['com.linkedin.deco.recipe.anonymous.Anon1578943416'], 'posterId': '34045426', '$type': 'com.linkedin.voyager.dash.jobs.JobPosting', 'contentSource': 'JOBS_PREMIUM_OFFLINE', 'entityUrn': 'urn:li:fsd_jobPosting:4128854013'}, {'trackingUrn': 'urn:li:jobPosting:4128874208', 'repostedJob': False, 'title': 'Junior Machine Learning Engineer (Leipzig)', '$recipeTypes': ['com.linkedin.deco.recipe.anonymous.Anon1578943416'], 'posterId': '435365337', '$type': 'com.linkedin.voyager.dash.jobs.JobPosting', 'contentSource': 'JOBS_PREMIUM_OFFLINE', 'entityUrn': 'urn:li:fsd_jobPosting:4128874208'}, {'trackingUrn': 'urn:li:jobPosting:4129357449', 'repostedJob': False, 'title': 'Machine Learning Engineer (LLM/RAG)', '$recipeTypes': ['com.linkedin.deco.recipe.anonymous.Anon1578943416'], 'posterId': '23270003', '$type': 'com.linkedin.voyager.dash.jobs.JobPosting', 'contentSource': 'JOBS_CREATE', 'entityUrn': 'urn:li:fsd_jobPosting:4129357449'}, {'trackingUrn': 'urn:li:jobPosting:4128861873', 'repostedJob': False, 'title': 'Senior Typescript Developer (f/m/d)', '$recipeTypes': ['com.linkedin.deco.recipe.anonymous.Anon1578943416'], 'posterId': None, '$type': 'com.linkedin.voyager.dash.jobs.JobPosting', 'contentSource': 'JOBS_CREATE', 'entityUrn': 'urn:li:fsd_jobPosting:4128861873'}]\n"
     ]
    }
   ],
   "source": [
    "print(jobs)"
   ]
  },
  {
   "cell_type": "code",
   "execution_count": 4,
   "metadata": {},
   "outputs": [],
   "source": [
    "job_details = api.get_job(\"4128300973\")"
   ]
  },
  {
   "cell_type": "code",
   "execution_count": null,
   "metadata": {},
   "outputs": [],
   "source": [
    "job_details"
   ]
  },
  {
   "cell_type": "code",
   "execution_count": null,
   "metadata": {},
   "outputs": [],
   "source": [
    "from pipelines.jobs import JobSearchPipelineGenerator\n",
    "\n",
    "pipeline = JobSearchPipelineGenerator().generate()\n",
    "\n",
    "pipeline.inputs()"
   ]
  },
  {
   "cell_type": "code",
   "execution_count": null,
   "metadata": {},
   "outputs": [],
   "source": [
    "pipeline.show()"
   ]
  },
  {
   "cell_type": "code",
   "execution_count": null,
   "metadata": {},
   "outputs": [],
   "source": [
    "from tools.jobs import JobApplicationsSearch\n",
    "\n",
    "pipeline = JobApplicationsSearch().generate_pipeline()\n",
    "pipeline.inputs()\n",
    "pipeline.show()\n",
    "\n",
    "pipeline.run({\"query\": \"frontend\"})\n"
   ]
  },
  {
   "cell_type": "code",
   "execution_count": null,
   "metadata": {},
   "outputs": [],
   "source": []
  }
 ],
 "metadata": {
  "kernelspec": {
   "display_name": ".venv",
   "language": "python",
   "name": "python3"
  },
  "language_info": {
   "codemirror_mode": {
    "name": "ipython",
    "version": 3
   },
   "file_extension": ".py",
   "mimetype": "text/x-python",
   "name": "python",
   "nbconvert_exporter": "python",
   "pygments_lexer": "ipython3",
   "version": "3.12.7"
  }
 },
 "nbformat": 4,
 "nbformat_minor": 2
}
